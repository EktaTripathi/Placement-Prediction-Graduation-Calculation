{
 "cells": [
  {
   "cell_type": "markdown",
   "id": "9bb2c9ce",
   "metadata": {},
   "source": [
    "## Q.1) The year of graduation calculation will function by utilizing essential features and historical data. A dataset containing data on student's college details including college name, academic year and branch will be used."
   ]
  },
  {
   "cell_type": "code",
   "execution_count": 4,
   "id": "a4a39570",
   "metadata": {},
   "outputs": [],
   "source": [
    "import pandas as pd\n",
    "from datetime import datetime\n",
    "\n",
    "# Read the data from the Excel file\n",
    "df = pd.read_excel('D:\\\\Documents\\\\Internship data\\\\Data\\\\05 Input Data\\\\Year of Graduation Data\\\\Final Lead Data.xlsx')\n",
    "\n",
    "# Drop duplicate values in the \"Email\" column\n",
    "df.drop_duplicates(subset=['Email'], keep='first', inplace=True)\n",
    "\n",
    "# Define a function to extract the year from the 'Created' column\n",
    "def extract_year(created_str):\n",
    "    created_date = datetime.strptime(created_str, '%m/%d/%Y %I:%M:%S %p')\n",
    "    return created_date.year\n",
    "\n",
    "# Apply the function to the 'Created' column and create a new column 'Year'\n",
    "df['Year'] = df['Created'].apply(extract_year)\n",
    "\n",
    "# Define a function to calculate the predicted graduation year based on rules\n",
    "def calculate_graduation_year(row):\n",
    "    if row['Academic Year'] == 1:\n",
    "        return row['Year'] + 3\n",
    "    elif row['Academic Year'] == 2:\n",
    "        return row['Year'] + 2\n",
    "    elif row['Academic Year'] == 3:\n",
    "        created_date = datetime.strptime(row['Created'], '%m/%d/%Y %I:%M:%S %p')\n",
    "        if created_date.month > 6:\n",
    "            return row['Year'] + 1\n",
    "        else:\n",
    "            return row['Year'] + 2\n",
    "    elif row['Academic Year'] == 4:\n",
    "        created_date = datetime.strptime(row['Created'], '%m/%d/%Y %I:%M:%S %p')\n",
    "        if created_date.month < 6:\n",
    "            return row['Year']\n",
    "        else:\n",
    "            return row['Year'] + 1\n",
    "\n",
    "# Apply the function to create a new column 'Predicted Graduation Year'\n",
    "df['Predicted Graduation Year'] = df.apply(calculate_graduation_year, axis=1)\n",
    "\n",
    "# Save the result to an Excel file\n",
    "output = df[['Email', 'Predicted Graduation Year']]\n",
    "output.to_excel(\"D:\\\\Documents\\\\Internship data\\\\Data\\\\05 Input Data\\\\Year of Graduation Data\\\\Predicted year.xlsx\", index=False, header=True)"
   ]
  }
 ],
 "metadata": {
  "kernelspec": {
   "display_name": "Python 3 (ipykernel)",
   "language": "python",
   "name": "python3"
  },
  "language_info": {
   "codemirror_mode": {
    "name": "ipython",
    "version": 3
   },
   "file_extension": ".py",
   "mimetype": "text/x-python",
   "name": "python",
   "nbconvert_exporter": "python",
   "pygments_lexer": "ipython3",
   "version": "3.10.9"
  }
 },
 "nbformat": 4,
 "nbformat_minor": 5
}
