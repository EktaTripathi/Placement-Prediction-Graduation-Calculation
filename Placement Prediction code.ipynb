{
 "cells": [
  {
   "cell_type": "markdown",
   "id": "ce9e668a",
   "metadata": {},
   "source": [
    "## Q.2) Student placement prediction will function by utilizing essential features and historical data. A dataset containing data on student's academic records course progress, extracurricular activities, and previous placement results will be used to train the machine learning system. In order for the model to accurately forecast whether students secure placement. It must learn pattem and correlations from this data"
   ]
  },
  {
   "cell_type": "code",
   "execution_count": 20,
   "id": "fb0ef4d9",
   "metadata": {},
   "outputs": [],
   "source": [
    "import numpy as np\n",
    "import pandas as pd\n",
    "import matplotlib.pyplot as plt\n",
    "import seaborn as sns\n",
    "from sklearn.model_selection import train_test_split\n",
    "from sklearn.metrics import classification_report, confusion_matrix, accuracy_score\n",
    "from sklearn.ensemble import RandomForestClassifier\n",
    "from sklearn.model_selection import cross_val_score\n",
    "from sklearn import preprocessing\n",
    "from sklearn.metrics import accuracy_score"
   ]
  },
  {
   "cell_type": "code",
   "execution_count": 2,
   "id": "9d0c1506",
   "metadata": {},
   "outputs": [
    {
     "data": {
      "text/html": [
       "<div>\n",
       "<style scoped>\n",
       "    .dataframe tbody tr th:only-of-type {\n",
       "        vertical-align: middle;\n",
       "    }\n",
       "\n",
       "    .dataframe tbody tr th {\n",
       "        vertical-align: top;\n",
       "    }\n",
       "\n",
       "    .dataframe thead th {\n",
       "        text-align: right;\n",
       "    }\n",
       "</style>\n",
       "<table border=\"1\" class=\"dataframe\">\n",
       "  <thead>\n",
       "    <tr style=\"text-align: right;\">\n",
       "      <th></th>\n",
       "      <th>First Name</th>\n",
       "      <th>Email ID</th>\n",
       "      <th>Quantity</th>\n",
       "      <th>Price Tier</th>\n",
       "      <th>Ticket Type</th>\n",
       "      <th>Attendee #</th>\n",
       "      <th>Group</th>\n",
       "      <th>Order Type</th>\n",
       "      <th>Currency</th>\n",
       "      <th>Total Paid</th>\n",
       "      <th>...</th>\n",
       "      <th>College Name</th>\n",
       "      <th>How did you come to know about this event?</th>\n",
       "      <th>Specify in \"Others\" (how did you come to know about this event)</th>\n",
       "      <th>Designation</th>\n",
       "      <th>Year of Graduation</th>\n",
       "      <th>CGPA</th>\n",
       "      <th>Speaking Skills</th>\n",
       "      <th>ML Knowledge</th>\n",
       "      <th>Placement Status</th>\n",
       "      <th>Unnamed: 23</th>\n",
       "    </tr>\n",
       "  </thead>\n",
       "  <tbody>\n",
       "    <tr>\n",
       "      <th>0</th>\n",
       "      <td>ANIKET</td>\n",
       "      <td>aniket@xyz.com</td>\n",
       "      <td>1</td>\n",
       "      <td>NaN</td>\n",
       "      <td>Art of Resume Building</td>\n",
       "      <td>2.213855e+09</td>\n",
       "      <td>NaN</td>\n",
       "      <td>Free Order</td>\n",
       "      <td>USD</td>\n",
       "      <td>0</td>\n",
       "      <td>...</td>\n",
       "      <td>D Y PATIL INSTITUTE OF MCA AND MANAGEMENT AKUR...</td>\n",
       "      <td>Email</td>\n",
       "      <td>NaN</td>\n",
       "      <td>Students</td>\n",
       "      <td>NaN</td>\n",
       "      <td>6.7</td>\n",
       "      <td>2</td>\n",
       "      <td>5</td>\n",
       "      <td>Placed</td>\n",
       "      <td>NaN</td>\n",
       "    </tr>\n",
       "    <tr>\n",
       "      <th>1</th>\n",
       "      <td>Dhanshree</td>\n",
       "      <td>dhanshree@xyz.com</td>\n",
       "      <td>1</td>\n",
       "      <td>NaN</td>\n",
       "      <td>Art of Resume Building</td>\n",
       "      <td>2.213859e+09</td>\n",
       "      <td>NaN</td>\n",
       "      <td>Free Order</td>\n",
       "      <td>USD</td>\n",
       "      <td>0</td>\n",
       "      <td>...</td>\n",
       "      <td>AP SHAH INSTITUTE OF TECHNOLOGY</td>\n",
       "      <td>Others</td>\n",
       "      <td>College</td>\n",
       "      <td>Students</td>\n",
       "      <td>NaN</td>\n",
       "      <td>8.2</td>\n",
       "      <td>3</td>\n",
       "      <td>2</td>\n",
       "      <td>Not placed</td>\n",
       "      <td>NaN</td>\n",
       "    </tr>\n",
       "    <tr>\n",
       "      <th>2</th>\n",
       "      <td>Dhiraj</td>\n",
       "      <td>dhiraj@xyz.com</td>\n",
       "      <td>1</td>\n",
       "      <td>NaN</td>\n",
       "      <td>Art of Resume Building</td>\n",
       "      <td>2.213862e+09</td>\n",
       "      <td>NaN</td>\n",
       "      <td>Free Order</td>\n",
       "      <td>USD</td>\n",
       "      <td>0</td>\n",
       "      <td>...</td>\n",
       "      <td>Don Bosco College of Engineering Fatorda Goa</td>\n",
       "      <td>Email</td>\n",
       "      <td>NaN</td>\n",
       "      <td>Students</td>\n",
       "      <td>NaN</td>\n",
       "      <td>6.5</td>\n",
       "      <td>4</td>\n",
       "      <td>3</td>\n",
       "      <td>Not placed</td>\n",
       "      <td>NaN</td>\n",
       "    </tr>\n",
       "    <tr>\n",
       "      <th>3</th>\n",
       "      <td>Pooja</td>\n",
       "      <td>pooja@xyz.com</td>\n",
       "      <td>1</td>\n",
       "      <td>NaN</td>\n",
       "      <td>Art of Resume Building</td>\n",
       "      <td>2.213988e+09</td>\n",
       "      <td>NaN</td>\n",
       "      <td>Free Order</td>\n",
       "      <td>USD</td>\n",
       "      <td>0</td>\n",
       "      <td>...</td>\n",
       "      <td>Pillai College of Engineering New Panvel</td>\n",
       "      <td>Email</td>\n",
       "      <td>NaN</td>\n",
       "      <td>Students</td>\n",
       "      <td>NaN</td>\n",
       "      <td>8.7</td>\n",
       "      <td>2</td>\n",
       "      <td>5</td>\n",
       "      <td>Not placed</td>\n",
       "      <td>NaN</td>\n",
       "    </tr>\n",
       "    <tr>\n",
       "      <th>4</th>\n",
       "      <td>Aayush</td>\n",
       "      <td>aayush@xyz.com</td>\n",
       "      <td>1</td>\n",
       "      <td>NaN</td>\n",
       "      <td>Art of Resume Building</td>\n",
       "      <td>2.214567e+09</td>\n",
       "      <td>NaN</td>\n",
       "      <td>Free Order</td>\n",
       "      <td>USD</td>\n",
       "      <td>0</td>\n",
       "      <td>...</td>\n",
       "      <td>St Xavier's College</td>\n",
       "      <td>Instagram | LinkedIn | Cloud Counselage Website</td>\n",
       "      <td>NaN</td>\n",
       "      <td>Students</td>\n",
       "      <td>NaN</td>\n",
       "      <td>9.1</td>\n",
       "      <td>3</td>\n",
       "      <td>5</td>\n",
       "      <td>Placed</td>\n",
       "      <td>NaN</td>\n",
       "    </tr>\n",
       "  </tbody>\n",
       "</table>\n",
       "<p>5 rows × 24 columns</p>\n",
       "</div>"
      ],
      "text/plain": [
       "  First Name           Email ID  Quantity  Price Tier             Ticket Type  \\\n",
       "0     ANIKET     aniket@xyz.com         1         NaN  Art of Resume Building   \n",
       "1  Dhanshree  dhanshree@xyz.com         1         NaN  Art of Resume Building   \n",
       "2     Dhiraj     dhiraj@xyz.com         1         NaN  Art of Resume Building   \n",
       "3      Pooja      pooja@xyz.com         1         NaN  Art of Resume Building   \n",
       "4     Aayush     aayush@xyz.com         1         NaN  Art of Resume Building   \n",
       "\n",
       "     Attendee #  Group  Order Type Currency  Total Paid  ...  \\\n",
       "0  2.213855e+09    NaN  Free Order      USD           0  ...   \n",
       "1  2.213859e+09    NaN  Free Order      USD           0  ...   \n",
       "2  2.213862e+09    NaN  Free Order      USD           0  ...   \n",
       "3  2.213988e+09    NaN  Free Order      USD           0  ...   \n",
       "4  2.214567e+09    NaN  Free Order      USD           0  ...   \n",
       "\n",
       "                                        College Name  \\\n",
       "0  D Y PATIL INSTITUTE OF MCA AND MANAGEMENT AKUR...   \n",
       "1                   AP SHAH INSTITUTE OF TECHNOLOGY    \n",
       "2       Don Bosco College of Engineering Fatorda Goa   \n",
       "3           Pillai College of Engineering New Panvel   \n",
       "4                               St Xavier's College    \n",
       "\n",
       "        How did you come to know about this event?  \\\n",
       "0                                            Email   \n",
       "1                                           Others   \n",
       "2                                            Email   \n",
       "3                                            Email   \n",
       "4  Instagram | LinkedIn | Cloud Counselage Website   \n",
       "\n",
       "   Specify in \"Others\" (how did you come to know about this event)  \\\n",
       "0                                                NaN                 \n",
       "1                                            College                 \n",
       "2                                                NaN                 \n",
       "3                                                NaN                 \n",
       "4                                                NaN                 \n",
       "\n",
       "  Designation Year of Graduation CGPA Speaking Skills ML Knowledge  \\\n",
       "0    Students                NaN  6.7               2            5   \n",
       "1    Students                NaN  8.2               3            2   \n",
       "2    Students                NaN  6.5               4            3   \n",
       "3    Students                NaN  8.7               2            5   \n",
       "4    Students                NaN  9.1               3            5   \n",
       "\n",
       "  Placement Status  Unnamed: 23  \n",
       "0           Placed          NaN  \n",
       "1       Not placed          NaN  \n",
       "2       Not placed          NaN  \n",
       "3       Not placed          NaN  \n",
       "4           Placed          NaN  \n",
       "\n",
       "[5 rows x 24 columns]"
      ]
     },
     "execution_count": 2,
     "metadata": {},
     "output_type": "execute_result"
    }
   ],
   "source": [
    "df=pd.read_csv(\"D:\\\\Documents\\\\Internship data\\\\Data\\\\05 Input Data\\\\Prediction of Placement Status Data\\\\Train Data.csv\")\n",
    "df.head()"
   ]
  },
  {
   "cell_type": "code",
   "execution_count": 3,
   "id": "e34d955d",
   "metadata": {},
   "outputs": [
    {
     "data": {
      "text/plain": [
       "First Name                                                            0\n",
       "Email ID                                                              0\n",
       "Quantity                                                              0\n",
       "Price Tier                                                         4894\n",
       "Ticket Type                                                           0\n",
       "Attendee #                                                          404\n",
       "Group                                                              4894\n",
       "Order Type                                                            0\n",
       "Currency                                                            404\n",
       "Total Paid                                                            0\n",
       "Fees Paid                                                           404\n",
       "Eventbrite Fees                                                       0\n",
       "Eventbrite Payment Processing                                         0\n",
       "Attendee Status                                                       0\n",
       "College Name                                                         15\n",
       "How did you come to know about this event?                         2216\n",
       "Specify in \"Others\" (how did you come to know about this event)    4805\n",
       "Designation                                                           0\n",
       "Year of Graduation                                                 3862\n",
       "CGPA                                                                  0\n",
       "Speaking Skills                                                       0\n",
       "ML Knowledge                                                          0\n",
       "Placement Status                                                   3796\n",
       "Unnamed: 23                                                        4894\n",
       "dtype: int64"
      ]
     },
     "execution_count": 3,
     "metadata": {},
     "output_type": "execute_result"
    }
   ],
   "source": [
    "df.isnull().sum()"
   ]
  },
  {
   "cell_type": "code",
   "execution_count": 4,
   "id": "a8f3b710",
   "metadata": {},
   "outputs": [],
   "source": [
    "df.drop(['Price Tier','Group','Specify in \"Others\" (how did you come to know about this event)','How did you come to know about this event?','Unnamed: 23'],axis=1,inplace=True)"
   ]
  },
  {
   "cell_type": "code",
   "execution_count": 5,
   "id": "b68784c2",
   "metadata": {},
   "outputs": [
    {
     "data": {
      "text/plain": [
       "(4894, 19)"
      ]
     },
     "execution_count": 5,
     "metadata": {},
     "output_type": "execute_result"
    }
   ],
   "source": [
    "df.shape"
   ]
  },
  {
   "cell_type": "code",
   "execution_count": 6,
   "id": "e2826261",
   "metadata": {},
   "outputs": [],
   "source": [
    "df.drop_duplicates(subset=['Email ID'], inplace=True)"
   ]
  },
  {
   "cell_type": "code",
   "execution_count": 7,
   "id": "ddca3ed2",
   "metadata": {},
   "outputs": [
    {
     "data": {
      "text/plain": [
       "(1987, 19)"
      ]
     },
     "execution_count": 7,
     "metadata": {},
     "output_type": "execute_result"
    }
   ],
   "source": [
    "df.shape"
   ]
  },
  {
   "cell_type": "code",
   "execution_count": 8,
   "id": "32e5ad5e",
   "metadata": {},
   "outputs": [],
   "source": [
    "df['Placement Status'].replace('', np.nan, regex=True,inplace=True)"
   ]
  },
  {
   "cell_type": "code",
   "execution_count": 9,
   "id": "503163b2",
   "metadata": {},
   "outputs": [
    {
     "data": {
      "text/plain": [
       "0           Placed\n",
       "1       Not placed\n",
       "2       Not placed\n",
       "3       Not placed\n",
       "4           Placed\n",
       "           ...    \n",
       "4829           NaN\n",
       "4831           NaN\n",
       "4832           NaN\n",
       "4834           NaN\n",
       "4836           NaN\n",
       "Name: Placement Status, Length: 1987, dtype: object"
      ]
     },
     "execution_count": 9,
     "metadata": {},
     "output_type": "execute_result"
    }
   ],
   "source": [
    "df['Placement Status']"
   ]
  },
  {
   "cell_type": "code",
   "execution_count": 10,
   "id": "5c86af94",
   "metadata": {},
   "outputs": [
    {
     "name": "stderr",
     "output_type": "stream",
     "text": [
      "C:\\Users\\Ekta\\AppData\\Local\\Temp\\ipykernel_2724\\2675502043.py:2: FutureWarning: The default value of numeric_only in DataFrame.corr is deprecated. In a future version, it will default to False. Select only valid columns or specify the value of numeric_only to silence this warning.\n",
      "  sns.heatmap(df.corr(), annot=True, cmap='coolwarm', linewidths=0.5)\n"
     ]
    },
    {
     "data": {
      "image/png": "[encoded data removed]",
      "text/plain": [
       "<Figure size 1000x800 with 2 Axes>"
      ]
     },
     "metadata": {},
     "output_type": "display_data"
    }
   ],
   "source": [
    "plt.figure(figsize=(10, 8))\n",
    "sns.heatmap(df.corr(), annot=True, cmap='coolwarm', linewidths=0.5)\n",
    "plt.title('Correlation Heatmap with Placement Status')\n",
    "plt.show()"
   ]
  },
  {
   "cell_type": "code",
   "execution_count": 11,
   "id": "7892a8fb",
   "metadata": {},
   "outputs": [],
   "source": [
    "val=['College Name','Placement Status']\n",
    "from sklearn import preprocessing\n",
    "label_encoder=preprocessing.LabelEncoder()\n",
    "for i in val: \n",
    "     df[i]=label_encoder.fit_transform(df[i])"
   ]
  },
  {
   "cell_type": "code",
   "execution_count": 12,
   "id": "99ad259e",
   "metadata": {},
   "outputs": [
    {
     "data": {
      "text/plain": [
       "0       1\n",
       "1       0\n",
       "2       0\n",
       "3       0\n",
       "4       1\n",
       "       ..\n",
       "4829    2\n",
       "4831    2\n",
       "4832    2\n",
       "4834    2\n",
       "4836    2\n",
       "Name: Placement Status, Length: 1987, dtype: int32"
      ]
     },
     "execution_count": 12,
     "metadata": {},
     "output_type": "execute_result"
    }
   ],
   "source": [
    "df['Placement Status']"
   ]
  },
  {
   "cell_type": "code",
   "execution_count": 13,
   "id": "fc5cad34",
   "metadata": {},
   "outputs": [],
   "source": [
    "col=['College Name']\n",
    "for i in col:\n",
    "     if df[i].isnull().sum()!=0: \n",
    "             df[i].fillna(df[i].mode()[0], inplace=True)"
   ]
  },
  {
   "cell_type": "code",
   "execution_count": 14,
   "id": "ca49d3cb",
   "metadata": {},
   "outputs": [
    {
     "data": {
      "text/plain": [
       "First Name                          0\n",
       "Email ID                            0\n",
       "Quantity                            0\n",
       "Ticket Type                         0\n",
       "Attendee #                        222\n",
       "Order Type                          0\n",
       "Currency                          222\n",
       "Total Paid                          0\n",
       "Fees Paid                         222\n",
       "Eventbrite Fees                     0\n",
       "Eventbrite Payment Processing       0\n",
       "Attendee Status                     0\n",
       "College Name                        0\n",
       "Designation                         0\n",
       "Year of Graduation               1707\n",
       "CGPA                                0\n",
       "Speaking Skills                     0\n",
       "ML Knowledge                        0\n",
       "Placement Status                    0\n",
       "dtype: int64"
      ]
     },
     "execution_count": 14,
     "metadata": {},
     "output_type": "execute_result"
    }
   ],
   "source": [
    "df.isnull().sum()"
   ]
  },
  {
   "cell_type": "code",
   "execution_count": 15,
   "id": "9a1f1c2a",
   "metadata": {},
   "outputs": [],
   "source": [
    "factors=['ML Knowledge','CGPA','Speaking Skills','College Name']"
   ]
  },
  {
   "cell_type": "code",
   "execution_count": 16,
   "id": "ca3bdd8a",
   "metadata": {},
   "outputs": [],
   "source": [
    "X=df[factors]\n",
    "y=df['Placement Status']"
   ]
  },
  {
   "cell_type": "code",
   "execution_count": 17,
   "id": "23c81d4a",
   "metadata": {},
   "outputs": [],
   "source": [
    "X_train, X_test, y_train, y_test = train_test_split(X, y, test_size=0.2, random_state=0)"
   ]
  },
  {
   "cell_type": "code",
   "execution_count": 18,
   "id": "aa2008b4",
   "metadata": {},
   "outputs": [
    {
     "data": {
      "text/html": [
       "<style>#sk-container-id-1 {color: black;background-color: white;}#sk-container-id-1 pre{padding: 0;}#sk-container-id-1 div.sk-toggleable {background-color: white;}#sk-container-id-1 label.sk-toggleable__label {cursor: pointer;display: block;width: 100%;margin-bottom: 0;padding: 0.3em;box-sizing: border-box;text-align: center;}#sk-container-id-1 label.sk-toggleable__label-arrow:before {content: \"▸\";float: left;margin-right: 0.25em;color: #696969;}#sk-container-id-1 label.sk-toggleable__label-arrow:hover:before {color: black;}#sk-container-id-1 div.sk-estimator:hover label.sk-toggleable__label-arrow:before {color: black;}#sk-container-id-1 div.sk-toggleable__content {max-height: 0;max-width: 0;overflow: hidden;text-align: left;background-color: #f0f8ff;}#sk-container-id-1 div.sk-toggleable__content pre {margin: 0.2em;color: black;border-radius: 0.25em;background-color: #f0f8ff;}#sk-container-id-1 input.sk-toggleable__control:checked~div.sk-toggleable__content {max-height: 200px;max-width: 100%;overflow: auto;}#sk-container-id-1 input.sk-toggleable__control:checked~label.sk-toggleable__label-arrow:before {content: \"▾\";}#sk-container-id-1 div.sk-estimator input.sk-toggleable__control:checked~label.sk-toggleable__label {background-color: #d4ebff;}#sk-container-id-1 div.sk-label input.sk-toggleable__control:checked~label.sk-toggleable__label {background-color: #d4ebff;}#sk-container-id-1 input.sk-hidden--visually {border: 0;clip: rect(1px 1px 1px 1px);clip: rect(1px, 1px, 1px, 1px);height: 1px;margin: -1px;overflow: hidden;padding: 0;position: absolute;width: 1px;}#sk-container-id-1 div.sk-estimator {font-family: monospace;background-color: #f0f8ff;border: 1px dotted black;border-radius: 0.25em;box-sizing: border-box;margin-bottom: 0.5em;}#sk-container-id-1 div.sk-estimator:hover {background-color: #d4ebff;}#sk-container-id-1 div.sk-parallel-item::after {content: \"\";width: 100%;border-bottom: 1px solid gray;flex-grow: 1;}#sk-container-id-1 div.sk-label:hover label.sk-toggleable__label {background-color: #d4ebff;}#sk-container-id-1 div.sk-serial::before {content: \"\";position: absolute;border-left: 1px solid gray;box-sizing: border-box;top: 0;bottom: 0;left: 50%;z-index: 0;}#sk-container-id-1 div.sk-serial {display: flex;flex-direction: column;align-items: center;background-color: white;padding-right: 0.2em;padding-left: 0.2em;position: relative;}#sk-container-id-1 div.sk-item {position: relative;z-index: 1;}#sk-container-id-1 div.sk-parallel {display: flex;align-items: stretch;justify-content: center;background-color: white;position: relative;}#sk-container-id-1 div.sk-item::before, #sk-container-id-1 div.sk-parallel-item::before {content: \"\";position: absolute;border-left: 1px solid gray;box-sizing: border-box;top: 0;bottom: 0;left: 50%;z-index: -1;}#sk-container-id-1 div.sk-parallel-item {display: flex;flex-direction: column;z-index: 1;position: relative;background-color: white;}#sk-container-id-1 div.sk-parallel-item:first-child::after {align-self: flex-end;width: 50%;}#sk-container-id-1 div.sk-parallel-item:last-child::after {align-self: flex-start;width: 50%;}#sk-container-id-1 div.sk-parallel-item:only-child::after {width: 0;}#sk-container-id-1 div.sk-dashed-wrapped {border: 1px dashed gray;margin: 0 0.4em 0.5em 0.4em;box-sizing: border-box;padding-bottom: 0.4em;background-color: white;}#sk-container-id-1 div.sk-label label {font-family: monospace;font-weight: bold;display: inline-block;line-height: 1.2em;}#sk-container-id-1 div.sk-label-container {text-align: center;}#sk-container-id-1 div.sk-container {/* jupyter's `normalize.less` sets `[hidden] { display: none; }` but bootstrap.min.css set `[hidden] { display: none !important; }` so we also need the `!important` here to be able to override the default hidden behavior on the sphinx rendered scikit-learn.org. See: https://github.com/scikit-learn/scikit-learn/issues/21755 */display: inline-block !important;position: relative;}#sk-container-id-1 div.sk-text-repr-fallback {display: none;}</style><div id=\"sk-container-id-1\" class=\"sk-top-container\"><div class=\"sk-text-repr-fallback\"><pre>RandomForestClassifier()</pre><b>In a Jupyter environment, please rerun this cell to show the HTML representation or trust the notebook. <br />On GitHub, the HTML representation is unable to render, please try loading this page with nbviewer.org.</b></div><div class=\"sk-container\" hidden><div class=\"sk-item\"><div class=\"sk-estimator sk-toggleable\"><input class=\"sk-toggleable__control sk-hidden--visually\" id=\"sk-estimator-id-1\" type=\"checkbox\" checked><label for=\"sk-estimator-id-1\" class=\"sk-toggleable__label sk-toggleable__label-arrow\">RandomForestClassifier</label><div class=\"sk-toggleable__content\"><pre>RandomForestClassifier()</pre></div></div></div></div></div>"
      ],
      "text/plain": [
       "RandomForestClassifier()"
      ]
     },
     "execution_count": 18,
     "metadata": {},
     "output_type": "execute_result"
    }
   ],
   "source": [
    "rf_classifier = RandomForestClassifier()\n",
    "rf_classifier.fit(X_train, y_train)"
   ]
  },
  {
   "cell_type": "code",
   "execution_count": 19,
   "id": "79b3cad6",
   "metadata": {},
   "outputs": [],
   "source": [
    "y_pred_train = rf_classifier.predict(X_train)\n",
    "y_pred_test = rf_classifier.predict(X_test)"
   ]
  },
  {
   "cell_type": "code",
   "execution_count": 24,
   "id": "785f1f9a",
   "metadata": {},
   "outputs": [
    {
     "data": {
      "text/plain": [
       "(0.9502831969792322, 0.6256281407035176)"
      ]
     },
     "execution_count": 24,
     "metadata": {},
     "output_type": "execute_result"
    }
   ],
   "source": [
    "accuracy_score(y_train, y_pred_train),accuracy_score(y_test, y_pred_test)"
   ]
  },
  {
   "cell_type": "code",
   "execution_count": 25,
   "id": "118ee48d",
   "metadata": {},
   "outputs": [
    {
     "name": "stdout",
     "output_type": "stream",
     "text": [
      "Accuracy: 66.83%\n"
     ]
    }
   ],
   "source": [
    "from xgboost import XGBClassifier\n",
    "seed = 0\n",
    "test_size = 0.2\n",
    "X_train, X_test, y_train, y_test = train_test_split(X, y, test_size=test_size, random_state=seed)\n",
    "model = XGBClassifier()\n",
    "model.fit(X_train, y_train)\n",
    "y_pred = model.predict(X_test)\n",
    "predictions = [round(value) for value in y_pred]\n",
    "accuracy = accuracy_score(y_test, predictions)\n",
    "print(\"Accuracy: %.2f%%\" % (accuracy * 100.0))"
   ]
  },
  {
   "cell_type": "code",
   "execution_count": 26,
   "id": "d60aaf03",
   "metadata": {},
   "outputs": [
    {
     "data": {
      "text/plain": [
       "0.7412060301507538"
      ]
     },
     "execution_count": 26,
     "metadata": {},
     "output_type": "execute_result"
    }
   ],
   "source": [
    "from sklearn.neighbors import KNeighborsClassifier\n",
    "clf = KNeighborsClassifier(n_neighbors=42)\n",
    "clf.fit(X_train, y_train)\n",
    "y_pred = clf.predict(X_test)\n",
    "clf.score(X_test, y_test)"
   ]
  },
  {
   "cell_type": "code",
   "execution_count": 27,
   "id": "8dd9c8d3",
   "metadata": {},
   "outputs": [],
   "source": [
    "test_df = pd.read_csv(\"D:\\\\Documents\\\\Internship data\\\\Data\\\\05 Input Data\\\\Prediction of Placement Status Data\\\\Test Data.csv\")"
   ]
  },
  {
   "cell_type": "code",
   "execution_count": 28,
   "id": "4c9877be",
   "metadata": {},
   "outputs": [
    {
     "data": {
      "text/plain": [
       "First Name                                                            0\n",
       "Email ID                                                              0\n",
       "Quantity                                                              0\n",
       "Price Tier                                                         3796\n",
       "Ticket Type                                                           0\n",
       "Attendee #                                                            2\n",
       "Group                                                              3796\n",
       "Order Type                                                            0\n",
       "Currency                                                              2\n",
       "Total Paid                                                            0\n",
       "Fees Paid                                                             2\n",
       "Eventbrite Fees                                                       0\n",
       "Eventbrite Payment Processing                                         0\n",
       "Attendee Status                                                       0\n",
       "College Name                                                          1\n",
       "How did you come to know about this event?                         2212\n",
       "Specify in \"Others\" (how did you come to know about this event)    3769\n",
       "Designation                                                           0\n",
       "Year of Graduation                                                 2764\n",
       "CGPA                                                                  0\n",
       "Speaking Skills                                                       0\n",
       "ML Knowledge                                                          0\n",
       "Placement Status                                                   3796\n",
       "dtype: int64"
      ]
     },
     "execution_count": 28,
     "metadata": {},
     "output_type": "execute_result"
    }
   ],
   "source": [
    "test_df.isnull().sum()"
   ]
  },
  {
   "cell_type": "code",
   "execution_count": 29,
   "id": "c1f5df64",
   "metadata": {},
   "outputs": [],
   "source": [
    "test_df.drop(['Price Tier','Group','Specify in \"Others\" (how did you come to know about this event)','How did you come to know about this event?'],axis=1,inplace=True)"
   ]
  },
  {
   "cell_type": "code",
   "execution_count": 30,
   "id": "9a0e10d1",
   "metadata": {},
   "outputs": [
    {
     "data": {
      "text/plain": [
       "(3796, 19)"
      ]
     },
     "execution_count": 30,
     "metadata": {},
     "output_type": "execute_result"
    }
   ],
   "source": [
    "test_df.shape"
   ]
  },
  {
   "cell_type": "code",
   "execution_count": 31,
   "id": "994d9984",
   "metadata": {},
   "outputs": [],
   "source": [
    "test_df.drop_duplicates(subset=['Email ID'], inplace=True)"
   ]
  },
  {
   "cell_type": "code",
   "execution_count": 32,
   "id": "2d701770",
   "metadata": {},
   "outputs": [
    {
     "data": {
      "text/plain": [
       "(2321, 19)"
      ]
     },
     "execution_count": 32,
     "metadata": {},
     "output_type": "execute_result"
    }
   ],
   "source": [
    "test_df.shape"
   ]
  },
  {
   "cell_type": "code",
   "execution_count": 33,
   "id": "27314714",
   "metadata": {},
   "outputs": [
    {
     "data": {
      "text/plain": [
       "First Name                          0\n",
       "Email ID                            0\n",
       "Quantity                            0\n",
       "Ticket Type                         0\n",
       "Attendee #                          0\n",
       "Order Type                          0\n",
       "Currency                            0\n",
       "Total Paid                          0\n",
       "Fees Paid                           0\n",
       "Eventbrite Fees                     0\n",
       "Eventbrite Payment Processing       0\n",
       "Attendee Status                     0\n",
       "College Name                        1\n",
       "Designation                         0\n",
       "Year of Graduation               1832\n",
       "CGPA                                0\n",
       "Speaking Skills                     0\n",
       "ML Knowledge                        0\n",
       "Placement Status                 2321\n",
       "dtype: int64"
      ]
     },
     "execution_count": 33,
     "metadata": {},
     "output_type": "execute_result"
    }
   ],
   "source": [
    "test_df.isnull().sum()"
   ]
  },
  {
   "cell_type": "code",
   "execution_count": 34,
   "id": "02354d07",
   "metadata": {},
   "outputs": [
    {
     "data": {
      "text/html": [
       "<div>\n",
       "<style scoped>\n",
       "    .dataframe tbody tr th:only-of-type {\n",
       "        vertical-align: middle;\n",
       "    }\n",
       "\n",
       "    .dataframe tbody tr th {\n",
       "        vertical-align: top;\n",
       "    }\n",
       "\n",
       "    .dataframe thead th {\n",
       "        text-align: right;\n",
       "    }\n",
       "</style>\n",
       "<table border=\"1\" class=\"dataframe\">\n",
       "  <thead>\n",
       "    <tr style=\"text-align: right;\">\n",
       "      <th></th>\n",
       "      <th>Actual</th>\n",
       "      <th>Predicted</th>\n",
       "    </tr>\n",
       "  </thead>\n",
       "  <tbody>\n",
       "    <tr>\n",
       "      <th>0</th>\n",
       "      <td>2</td>\n",
       "      <td>2</td>\n",
       "    </tr>\n",
       "    <tr>\n",
       "      <th>1</th>\n",
       "      <td>2</td>\n",
       "      <td>2</td>\n",
       "    </tr>\n",
       "    <tr>\n",
       "      <th>2</th>\n",
       "      <td>2</td>\n",
       "      <td>2</td>\n",
       "    </tr>\n",
       "    <tr>\n",
       "      <th>3</th>\n",
       "      <td>0</td>\n",
       "      <td>2</td>\n",
       "    </tr>\n",
       "    <tr>\n",
       "      <th>4</th>\n",
       "      <td>1</td>\n",
       "      <td>2</td>\n",
       "    </tr>\n",
       "    <tr>\n",
       "      <th>...</th>\n",
       "      <td>...</td>\n",
       "      <td>...</td>\n",
       "    </tr>\n",
       "    <tr>\n",
       "      <th>393</th>\n",
       "      <td>0</td>\n",
       "      <td>2</td>\n",
       "    </tr>\n",
       "    <tr>\n",
       "      <th>394</th>\n",
       "      <td>2</td>\n",
       "      <td>2</td>\n",
       "    </tr>\n",
       "    <tr>\n",
       "      <th>395</th>\n",
       "      <td>2</td>\n",
       "      <td>1</td>\n",
       "    </tr>\n",
       "    <tr>\n",
       "      <th>396</th>\n",
       "      <td>2</td>\n",
       "      <td>2</td>\n",
       "    </tr>\n",
       "    <tr>\n",
       "      <th>397</th>\n",
       "      <td>2</td>\n",
       "      <td>2</td>\n",
       "    </tr>\n",
       "  </tbody>\n",
       "</table>\n",
       "<p>398 rows × 2 columns</p>\n",
       "</div>"
      ],
      "text/plain": [
       "     Actual  Predicted\n",
       "0         2          2\n",
       "1         2          2\n",
       "2         2          2\n",
       "3         0          2\n",
       "4         1          2\n",
       "..      ...        ...\n",
       "393       0          2\n",
       "394       2          2\n",
       "395       2          1\n",
       "396       2          2\n",
       "397       2          2\n",
       "\n",
       "[398 rows x 2 columns]"
      ]
     },
     "execution_count": 34,
     "metadata": {},
     "output_type": "execute_result"
    }
   ],
   "source": [
    "pd.DataFrame(zip(y_test, y_pred_test), columns=['Actual','Predicted'])"
   ]
  },
  {
   "cell_type": "code",
   "execution_count": 35,
   "id": "152334ea",
   "metadata": {},
   "outputs": [],
   "source": [
    "col=['College Name']\n",
    "for i in col:\n",
    "     if test_df[i].isnull().sum()!=0: \n",
    "             df[i].fillna(test_df[i].mode()[0], inplace=True)"
   ]
  },
  {
   "cell_type": "code",
   "execution_count": 36,
   "id": "6e3e9825",
   "metadata": {},
   "outputs": [],
   "source": [
    "val=['College Name']\n",
    "from sklearn import preprocessing\n",
    "label_encoder=preprocessing.LabelEncoder()\n",
    "for i in val: \n",
    "     test_df[i]=label_encoder.fit_transform(test_df[i])"
   ]
  },
  {
   "cell_type": "code",
   "execution_count": 37,
   "id": "d72c45ed",
   "metadata": {},
   "outputs": [
    {
     "data": {
      "text/html": [
       "<div>\n",
       "<style scoped>\n",
       "    .dataframe tbody tr th:only-of-type {\n",
       "        vertical-align: middle;\n",
       "    }\n",
       "\n",
       "    .dataframe tbody tr th {\n",
       "        vertical-align: top;\n",
       "    }\n",
       "\n",
       "    .dataframe thead th {\n",
       "        text-align: right;\n",
       "    }\n",
       "</style>\n",
       "<table border=\"1\" class=\"dataframe\">\n",
       "  <thead>\n",
       "    <tr style=\"text-align: right;\">\n",
       "      <th></th>\n",
       "      <th>ML Knowledge</th>\n",
       "      <th>CGPA</th>\n",
       "      <th>Speaking Skills</th>\n",
       "      <th>College Name</th>\n",
       "    </tr>\n",
       "  </thead>\n",
       "  <tbody>\n",
       "    <tr>\n",
       "      <th>0</th>\n",
       "      <td>3</td>\n",
       "      <td>7.8</td>\n",
       "      <td>3</td>\n",
       "      <td>49</td>\n",
       "    </tr>\n",
       "    <tr>\n",
       "      <th>1</th>\n",
       "      <td>3</td>\n",
       "      <td>9.1</td>\n",
       "      <td>3</td>\n",
       "      <td>41</td>\n",
       "    </tr>\n",
       "    <tr>\n",
       "      <th>2</th>\n",
       "      <td>2</td>\n",
       "      <td>6.9</td>\n",
       "      <td>2</td>\n",
       "      <td>27</td>\n",
       "    </tr>\n",
       "    <tr>\n",
       "      <th>3</th>\n",
       "      <td>4</td>\n",
       "      <td>8.4</td>\n",
       "      <td>4</td>\n",
       "      <td>53</td>\n",
       "    </tr>\n",
       "    <tr>\n",
       "      <th>4</th>\n",
       "      <td>5</td>\n",
       "      <td>6.7</td>\n",
       "      <td>5</td>\n",
       "      <td>39</td>\n",
       "    </tr>\n",
       "  </tbody>\n",
       "</table>\n",
       "</div>"
      ],
      "text/plain": [
       "   ML Knowledge  CGPA  Speaking Skills  College Name\n",
       "0             3   7.8                3            49\n",
       "1             3   9.1                3            41\n",
       "2             2   6.9                2            27\n",
       "3             4   8.4                4            53\n",
       "4             5   6.7                5            39"
      ]
     },
     "execution_count": 37,
     "metadata": {},
     "output_type": "execute_result"
    }
   ],
   "source": [
    "test=test_df[['ML Knowledge','CGPA','Speaking Skills','College Name']]\n",
    "test.head(5)"
   ]
  },
  {
   "cell_type": "code",
   "execution_count": 38,
   "id": "5c1afc48",
   "metadata": {},
   "outputs": [
    {
     "data": {
      "text/plain": [
       "array([2, 2, 2, 2, 2, 2, 0, 2, 2, 2, 2, 2, 2, 2, 2, 2, 2, 2, 2, 2, 2, 0,\n",
       "       2, 2, 2, 2, 2, 2, 2, 2, 2, 1, 2, 2, 2, 2, 2, 2, 0, 2, 2, 2, 2, 2,\n",
       "       1, 2, 2, 2, 2, 2, 2, 2, 2, 2, 1, 2, 2, 2, 1, 2, 2, 2, 2, 2, 2, 2,\n",
       "       2, 2, 0, 2, 2, 2, 2, 2, 2, 2, 2, 2, 0, 0, 2, 2, 2, 2, 0, 2, 2, 2,\n",
       "       2, 2, 2, 2, 2, 2, 2, 2, 2, 2, 2, 2])"
      ]
     },
     "execution_count": 38,
     "metadata": {},
     "output_type": "execute_result"
    }
   ],
   "source": [
    "y_pred = rf_classifier.predict(test)\n",
    "y_pred[:100]"
   ]
  },
  {
   "cell_type": "code",
   "execution_count": 41,
   "id": "1827c854",
   "metadata": {},
   "outputs": [
    {
     "data": {
      "text/plain": [
       "array([2, 2, 2, 2, 2, 2, 2, 2, 2, 0, 2, 0, 2, 2, 2, 2, 2, 2, 2, 2, 2, 2,\n",
       "       2, 2, 2, 2, 2, 2, 2, 0, 2, 2, 2, 2, 2, 2, 2, 2, 2, 2, 2, 2, 2, 2,\n",
       "       2, 2, 2, 2, 2, 2, 2, 2, 2, 2, 0, 0, 2, 2, 1, 2, 2, 2, 2, 0, 2, 2,\n",
       "       2, 2, 2, 2, 2, 2, 2, 2, 2, 0, 2, 2, 0, 2, 2, 2, 2, 2, 0, 2, 2, 2,\n",
       "       2, 2, 2, 2, 2, 2, 2, 2, 2, 2, 2, 2], dtype=int64)"
      ]
     },
     "execution_count": 41,
     "metadata": {},
     "output_type": "execute_result"
    }
   ],
   "source": [
    "xgb=model.predict(test)\n",
    "xgb[:100]"
   ]
  },
  {
   "cell_type": "code",
   "execution_count": 42,
   "id": "4a5abded",
   "metadata": {},
   "outputs": [
    {
     "data": {
      "text/plain": [
       "array([2, 2, 2, 2, 2, 2, 2, 2, 2, 2, 2, 2, 2, 2, 2, 2, 2, 2, 2, 2, 2, 2,\n",
       "       2, 2, 2, 2, 2, 2, 2, 2, 2, 2, 2, 2, 2, 2, 2, 2, 2, 2, 2, 2, 2, 2,\n",
       "       2, 2, 2, 2, 2, 2, 2, 2, 2, 2, 2, 2, 2, 2, 2, 2, 2, 2, 2, 2, 2, 2,\n",
       "       2, 2, 2, 2, 2, 2, 2, 2, 2, 2, 2, 2, 2, 2, 2, 2, 2, 2, 2, 2, 2, 2,\n",
       "       2, 2, 2, 2, 2, 2, 2, 2, 2, 2, 2, 2])"
      ]
     },
     "execution_count": 42,
     "metadata": {},
     "output_type": "execute_result"
    }
   ],
   "source": [
    "knn=clf.predict(test)\n",
    "knn[:100]"
   ]
  },
  {
   "cell_type": "code",
   "execution_count": 43,
   "id": "01d5c636",
   "metadata": {},
   "outputs": [],
   "source": [
    "test_df['Placement Status'] = y_pred"
   ]
  },
  {
   "cell_type": "code",
   "execution_count": 44,
   "id": "6a5ac11b",
   "metadata": {},
   "outputs": [],
   "source": [
    "test_df['Placement Status'].replace(2, np.nan, regex=True,inplace=True)"
   ]
  },
  {
   "cell_type": "code",
   "execution_count": 45,
   "id": "f1710975",
   "metadata": {},
   "outputs": [
    {
     "data": {
      "text/plain": [
       "0     NaN\n",
       "1     NaN\n",
       "2     NaN\n",
       "3     NaN\n",
       "4     NaN\n",
       "5     NaN\n",
       "6     0.0\n",
       "7     NaN\n",
       "8     NaN\n",
       "9     NaN\n",
       "10    NaN\n",
       "11    NaN\n",
       "12    NaN\n",
       "13    NaN\n",
       "14    NaN\n",
       "15    NaN\n",
       "16    NaN\n",
       "17    NaN\n",
       "18    NaN\n",
       "19    NaN\n",
       "20    NaN\n",
       "21    0.0\n",
       "22    NaN\n",
       "23    NaN\n",
       "24    NaN\n",
       "25    NaN\n",
       "26    NaN\n",
       "27    NaN\n",
       "28    NaN\n",
       "29    NaN\n",
       "30    NaN\n",
       "31    1.0\n",
       "32    NaN\n",
       "33    NaN\n",
       "34    NaN\n",
       "36    NaN\n",
       "37    NaN\n",
       "38    NaN\n",
       "39    0.0\n",
       "40    NaN\n",
       "41    NaN\n",
       "42    NaN\n",
       "44    NaN\n",
       "45    NaN\n",
       "46    1.0\n",
       "47    NaN\n",
       "48    NaN\n",
       "49    NaN\n",
       "50    NaN\n",
       "51    NaN\n",
       "Name: Placement Status, dtype: float64"
      ]
     },
     "execution_count": 45,
     "metadata": {},
     "output_type": "execute_result"
    }
   ],
   "source": [
    "test_df['Placement Status'][:50]"
   ]
  },
  {
   "cell_type": "code",
   "execution_count": 46,
   "id": "e8ad096e",
   "metadata": {},
   "outputs": [],
   "source": [
    "output=test_df[['First Name','Placement Status']]"
   ]
  },
  {
   "cell_type": "code",
   "execution_count": 47,
   "id": "f0b1a862",
   "metadata": {},
   "outputs": [],
   "source": [
    "output.to_csv(\"D:\\\\Documents\\\\Internship data\\\\Data\\\\05 Input Data\\\\Prediction of Placement Status Data\\\\Test Data_with_predictions.csv\", index=False)"
   ]
  },
  {
   "cell_type": "markdown",
   "id": "67a5764b",
   "metadata": {},
   "source": [
    "## In summary, the Random Forest classifier demonstrated its effectiveness in predicting placement status based on the selected features. Its performance was superior to alternative algorithms like XGBoost and KNN in terms of accuracy"
   ]
  }
 ],
 "metadata": {
  "kernelspec": {
   "display_name": "Python 3 (ipykernel)",
   "language": "python",
   "name": "python3"
  },
  "language_info": {
   "codemirror_mode": {
    "name": "ipython",
    "version": 3
   },
   "file_extension": ".py",
   "mimetype": "text/x-python",
   "name": "python",
   "nbconvert_exporter": "python",
   "pygments_lexer": "ipython3",
   "version": "3.10.9"
  }
 },
 "nbformat": 4,
 "nbformat_minor": 5
}
